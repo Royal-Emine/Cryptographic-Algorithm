{
  "nbformat": 4,
  "nbformat_minor": 0,
  "metadata": {
    "colab": {
      "provenance": []
    },
    "kernelspec": {
      "name": "python3",
      "display_name": "Python 3"
    },
    "language_info": {
      "name": "python"
    }
  },
  "cells": [
    {
      "cell_type": "code",
      "execution_count": 6,
      "metadata": {
        "colab": {
          "base_uri": "https://localhost:8080/"
        },
        "id": "2b-eLvDPGLiT",
        "outputId": "bfdb4227-a8aa-44bf-916f-7a22b0bd1eaa"
      },
      "outputs": [
        {
          "output_type": "stream",
          "name": "stdout",
          "text": [
            "Requirement already satisfied: pycryptodome in /usr/local/lib/python3.10/dist-packages (3.19.0)\n"
          ]
        }
      ],
      "source": [
        "pip install pycryptodome"
      ]
    },
    {
      "cell_type": "code",
      "source": [
        "# First Approach\n",
        "\n",
        "from Crypto.Cipher import DES\n",
        "from Crypto.Random import get_random_bytes\n",
        "from Crypto.Util.Padding import pad, unpad\n",
        "\n",
        "def generate_key():\n",
        "    return get_random_bytes(8)\n",
        "\n",
        "def des_encrypt(plaintext, key):\n",
        "    cipher = DES.new(key, DES.MODE_ECB)\n",
        "    padded_plaintext = pad(plaintext.encode('utf-8'), DES.block_size)\n",
        "    ciphertext = cipher.encrypt(padded_plaintext)\n",
        "    return ciphertext\n",
        "\n",
        "def des_decrypt(ciphertext, key):\n",
        "    cipher = DES.new(key, DES.MODE_ECB)\n",
        "    decrypted_text = unpad(cipher.decrypt(ciphertext), DES.block_size)\n",
        "    return decrypted_text.decode('utf-8')\n",
        "\n",
        "# Example usage:\n",
        "if __name__ == \"__main__\":\n",
        "    # Generate a random key\n",
        "    key = generate_key()\n",
        "\n",
        "    # Input plaintext\n",
        "    plaintext = \"Hello, DES encryption!\"\n",
        "\n",
        "    # Encryption\n",
        "    ciphertext = des_encrypt(plaintext, key)\n",
        "    print(f\"Plaintext: {plaintext}\")\n",
        "    print(f\"Ciphertext: {ciphertext.hex()}\")\n",
        "\n",
        "    # Decryption\n",
        "    decrypted_text = des_decrypt(ciphertext, key)\n",
        "    print(f\"Decrypted Text: {decrypted_text}\")\n"
      ],
      "metadata": {
        "colab": {
          "base_uri": "https://localhost:8080/"
        },
        "id": "QOd__IhWGi1W",
        "outputId": "0959c450-1176-4337-a593-44040c981d73"
      },
      "execution_count": 7,
      "outputs": [
        {
          "output_type": "stream",
          "name": "stdout",
          "text": [
            "Plaintext: Hello, DES encryption!\n",
            "Ciphertext: 1e43e0a30c1c49ad76933e9efaeb4fc05e344cb9e8647a96\n",
            "Decrypted Text: Hello, DES encryption!\n"
          ]
        }
      ]
    },
    {
      "cell_type": "code",
      "source": [
        "# Second Approach\n",
        "\n",
        "from Crypto.Cipher import DES\n",
        "from Crypto.Random import get_random_bytes\n",
        "\n",
        "def des_encrypt(message, key):\n",
        "    cipher = DES.new(key, DES.MODE_ECB)\n",
        "    # Padding the message if its length is not a multiple of 8\n",
        "    if len(message) % 8 != 0:\n",
        "        message += ' ' * (8 - len(message) % 8)\n",
        "    encrypted = cipher.encrypt(message.encode())\n",
        "    return encrypted\n",
        "\n",
        "def des_decrypt(ciphertext, key):\n",
        "    cipher = DES.new(key, DES.MODE_ECB)\n",
        "    decrypted = cipher.decrypt(ciphertext)\n",
        "    return decrypted.decode().strip()\n",
        "\n",
        "# Example usage\n",
        "message = \"Hello, this is a message to be encrypted using DES!\"\n",
        "key = get_random_bytes(8)  # 8-byte (64-bit) key\n",
        "\n",
        "# Encrypt\n",
        "encrypted_message = des_encrypt(message, key)\n",
        "print(\"Encrypted:\", encrypted_message)\n",
        "\n",
        "# Decrypt\n",
        "decrypted_message = des_decrypt(encrypted_message, key)\n",
        "print(\"Decrypted:\", decrypted_message)\n"
      ],
      "metadata": {
        "colab": {
          "base_uri": "https://localhost:8080/"
        },
        "id": "HRPvIn4nGmjg",
        "outputId": "cdb7581a-3428-4aaf-a56e-dcefbd499f77"
      },
      "execution_count": 8,
      "outputs": [
        {
          "output_type": "stream",
          "name": "stdout",
          "text": [
            "Encrypted: b'\\xd3\\xda\\xf7\\xa5\\xad=\\x03\\x11@\\x9e\\xcd\\xeb{GFm\\x1a\\x0f\\x89O\\xb2\\xe9\\x1e\\xff\\x08\\\\\\xcc\\x84\\xd3-\\x06\\xd3m\\n\\x12^\\xfb\\xf0\\x01\\xab&\\xeb-\\x88\\x84\\xbd\\x0bD\\xaa\\xc4\\xa6\\x13\\xaa~\\x98F'\n",
            "Decrypted: Hello, this is a message to be encrypted using DES!\n"
          ]
        }
      ]
    },
    {
      "cell_type": "code",
      "source": [
        "# Third Approach - Customised Message or Plain Text\n",
        "\n",
        "from Crypto.Cipher import DES\n",
        "from Crypto.Random import get_random_bytes\n",
        "\n",
        "def pad_message(message):\n",
        "    # DES requires input to be in multiples of 8 bytes\n",
        "    # Padding the message to ensure its length is a multiple of 8\n",
        "    while len(message) % 8 != 0:\n",
        "        message += b' '  # Add spaces to pad the message\n",
        "    return message\n",
        "\n",
        "def encrypt_message(message, key):\n",
        "    # Pad the message\n",
        "    message = pad_message(message)\n",
        "\n",
        "    # Create a DES cipher object\n",
        "    cipher = DES.new(key, DES.MODE_ECB)\n",
        "\n",
        "    # Encrypt the message\n",
        "    encrypted = cipher.encrypt(message)\n",
        "    return encrypted\n",
        "\n",
        "def decrypt_message(encrypted_message, key):\n",
        "    # Create a DES cipher object\n",
        "    cipher = DES.new(key, DES.MODE_ECB)\n",
        "\n",
        "    # Decrypt the message\n",
        "    decrypted = cipher.decrypt(encrypted_message)\n",
        "    return decrypted\n",
        "\n",
        "# Convert the message and key to bytes\n",
        "message = \"Sanchita's Cryptography Assignment\"\n",
        "message_bytes = message.encode('utf-8')\n",
        "\n",
        "# Generate a 64-bit (8-byte) key\n",
        "key = get_random_bytes(8)\n",
        "\n",
        "# Encrypt the message\n",
        "encrypted_message = encrypt_message(message_bytes, key)\n",
        "print(\"Encrypted:\", encrypted_message)\n",
        "\n",
        "# Decrypt the message\n",
        "decrypted_message = decrypt_message(encrypted_message, key)\n",
        "print(\"Decrypted:\", decrypted_message.decode('utf-8'))\n"
      ],
      "metadata": {
        "colab": {
          "base_uri": "https://localhost:8080/"
        },
        "id": "dG5Tb8tfHg3j",
        "outputId": "6357438e-95a6-41c6-87af-ba0dccca134a"
      },
      "execution_count": 9,
      "outputs": [
        {
          "output_type": "stream",
          "name": "stdout",
          "text": [
            "Encrypted: b'H@\\x0ea+\\x93\\xa2\\xaf\\xbf\\xdd\\xbal|\\xd8\\x96\\xe4\\xc7u\\xf9o\\xc96~R\\xae\\\\\\xd9\\xa7\\xf1(~\\x90=H\\xc6\\xc1?,\\xba\\x1e'\n",
            "Decrypted: Sanchita's Cryptography Assignment      \n"
          ]
        }
      ]
    }
  ]
}